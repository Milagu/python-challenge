{
 "cells": [
  {
   "cell_type": "code",
   "execution_count": null,
   "metadata": {},
   "outputs": [],
   "source": [
    "# * In this challenge, you are tasked with creating a Python script for analyzing the financial records of your company. You will give a set of financial data called [budget_data.csv](PyBank/Resources/budget_data.csv). The dataset is composed of two columns: `Date` and `Profit/Losses`. (Thankfully, your company has rather lax standards for accounting so the records are simple.)\n",
    "\n",
    "# * Your task is to create a Python script that analyzes the records to calculate each of the following:\n",
    "\n",
    "#   * The total number of months included in the dataset\n",
    "\n",
    "#   * The net total amount of \"Profit/Losses\" over the entire period\n",
    "\n",
    "#   * The average of the changes in \"Profit/Losses\" over the entire period\n",
    "\n",
    "#   * The greatest increase in profits (date and amount) over the entire period\n",
    "\n",
    "#   * The greatest decrease in losses (date and amount) over the entire period\n",
    "\n",
    "# * As an example, your analysis should look similar to the one below:\n",
    "\n",
    "#   ```text\n",
    "#   Financial Analysis\n",
    "#   ----------------------------\n",
    "#   Total Months: 86\n",
    "#   Total: $38382578\n",
    "#   Average  Change: $-2315.12\n",
    "#   Greatest Increase in Profits: Feb-2012 ($1926159)\n",
    "#   Greatest Decrease in Profits: Sep-2013 ($-2196167)\n",
    "#   ```\n",
    "\n",
    "# * In addition, your final script should both print the analysis to the terminal and export a text file with the results."
   ]
  },
  {
   "cell_type": "code",
   "execution_count": 1,
   "metadata": {},
   "outputs": [],
   "source": [
    "# Import dependencies\n",
    "import os\n",
    "import csv"
   ]
  },
  {
   "cell_type": "code",
   "execution_count": 2,
   "metadata": {},
   "outputs": [],
   "source": [
    "# Set file path to the data file (csv)\n",
    "#PyBank/Resources/budget_data.csv\n",
    "csvpath = ( 'Resources/budget_data.csv')"
   ]
  },
  {
   "cell_type": "code",
   "execution_count": 3,
   "metadata": {},
   "outputs": [],
   "source": [
    "# Create couple of empty lists\n",
    "months = []\n",
    "revenue = []\n",
    "diff = []"
   ]
  },
  {
   "cell_type": "code",
   "execution_count": 4,
   "metadata": {},
   "outputs": [],
   "source": [
    "# Open the csv for reading data\n",
    "with open (csvpath, 'r') as csvfile:\n",
    "    dataread = csv.reader(csvfile, delimiter=\",\")\n",
    "    \n",
    "    #Read until there's no data left to read\n",
    "    next(dataread, None)\n",
    "\n",
    "    #Loop through the data using the reader to answer questions for\n",
    "    # this assignment\n",
    "    for row in dataread:\n",
    "        months.append(row[0])\n",
    "        revenue.append(int(row[1]))"
   ]
  },
  {
   "cell_type": "code",
   "execution_count": 5,
   "metadata": {
    "scrolled": true
   },
   "outputs": [
    {
     "name": "stdout",
     "output_type": "stream",
     "text": [
      "86\n"
     ]
    }
   ],
   "source": [
    "# Let's start answering the questions in this assignment\n",
    "#1.* The total number of months included in the dataset\n",
    "total_months = 0\n",
    "total_months = len(months)\n",
    "print(total_months)"
   ]
  },
  {
   "cell_type": "code",
   "execution_count": 6,
   "metadata": {
    "scrolled": true
   },
   "outputs": [
    {
     "name": "stdout",
     "output_type": "stream",
     "text": [
      "38382578\n"
     ]
    }
   ],
   "source": [
    "#2.* The net total amount of \"Profit/Losses\" over the entire period\n",
    "total_revenue = 0.00\n",
    "total_revenue = sum(revenue)\n",
    "print(total_revenue)"
   ]
  },
  {
   "cell_type": "code",
   "execution_count": 18,
   "metadata": {
    "scrolled": true
   },
   "outputs": [
    {
     "name": "stdout",
     "output_type": "stream",
     "text": [
      "-2288\n"
     ]
    }
   ],
   "source": [
    "#3.* The average of the changes in \"Profit/Losses\" over the entire period\n",
    "diff = [revenue[i+1]-revenue[i] for i in range(len(revenue)-1)]\n",
    "avg_rev_change = round(sum(diff) / total_months)\n",
    "print(avg_rev_change)"
   ]
  },
  {
   "cell_type": "code",
   "execution_count": 19,
   "metadata": {},
   "outputs": [],
   "source": [
    "#4. * The greatest increase in profits (date and amount) over the entire period\n",
    "#5. * The greatest decrease in losses (date and amount) over the entire period\n",
    "#greatest_rev_incr = max(revenue)\n",
    "#print(greatest_rev_incr)\n",
    "\n",
    "greatest_rev_incr = revenue[0]\n",
    "greatest_rev_decr = revenue[0]\n",
    "\n",
    "for i in range(len(revenue)):\n",
    "    if revenue[i] >= greatest_rev_incr:\n",
    "        greatest_rev_incr = revenue[i]\n",
    "        greatest_rev_incr_month = months[i]\n",
    "    elif revenue[i] <= greatest_rev_decr:\n",
    "        greatest_rev_decr = revenue[i]\n",
    "        greatest_rev_decr_month = months[i]\n",
    "        diff[i] = greatest_rev_decr - revenue[i]"
   ]
  },
  {
   "cell_type": "code",
   "execution_count": 20,
   "metadata": {},
   "outputs": [],
   "source": [
    "#6.* In addition, your final script should both print the analysis to the terminal and export a text file with the results.\n",
    "# Let's write the analysis out to a file first\n",
    "outputpath = ('Output/' + 'pybank_'+ 'analysis' + '.txt')\n",
    "\n",
    "with open(outputpath, 'w') as writefile:\n",
    "    writefile.writelines('Financial Analysis\\n')\n",
    "    writefile.writelines('----------------------------' + '\\n')\n",
    "    writefile.writelines('Total Months: ' + str(total_months) + '\\n')\n",
    "    writefile.writelines('Total: $' + str(total_revenue) + '\\n')\n",
    "    writefile.writelines('Average Change: $' + str(avg_rev_change) + '\\n')\n",
    "    writefile.writelines('Greatest Increase in Profits: ' + greatest_rev_incr_month + ' ($' + str(greatest_rev_incr) + ')'+ '\\n')\n",
    "    writefile.writelines('Greatest Decrease in Profits: ' + greatest_rev_decr_month + ' ($' + str(greatest_rev_decr) + ')')"
   ]
  },
  {
   "cell_type": "code",
   "execution_count": 21,
   "metadata": {},
   "outputs": [
    {
     "name": "stdout",
     "output_type": "stream",
     "text": [
      "-79084\n"
     ]
    }
   ],
   "source": [
    "#3.* The average of the changes in \"Profit/Losses\" over the entire period\n",
    "total_change_over_time = sum(diff)\n",
    "avg_rev_change = round(total_change_over_time / total_months)\n",
    "print(avg_rev_change)"
   ]
  },
  {
   "cell_type": "code",
   "execution_count": 22,
   "metadata": {},
   "outputs": [
    {
     "name": "stdout",
     "output_type": "stream",
     "text": [
      "Financial Analysis\n",
      "----------------------------\n",
      "Total Months: 86\n",
      "Total: $38382578\n",
      "Average Change: $-2288\n",
      "Greatest Increase in Profits: Feb-2012 ($1170593)\n",
      "Greatest Decrease in Profits: Sep-2013 ($-1196225)\n"
     ]
    }
   ],
   "source": [
    "# Read output file to print the contents to the console\n",
    "with open(outputpath, 'r') as readfile:\n",
    "    print(readfile.read())"
   ]
  }
 ],
 "metadata": {
  "kernelspec": {
   "display_name": "Python 3",
   "language": "python",
   "name": "python3"
  },
  "language_info": {
   "codemirror_mode": {
    "name": "ipython",
    "version": 3
   },
   "file_extension": ".py",
   "mimetype": "text/x-python",
   "name": "python",
   "nbconvert_exporter": "python",
   "pygments_lexer": "ipython3",
   "version": "3.7.1"
  }
 },
 "nbformat": 4,
 "nbformat_minor": 2
}
